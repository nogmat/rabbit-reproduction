{
 "cells": [
  {
   "cell_type": "markdown",
   "id": "cd8fdc34-84dd-4cd3-ba9a-f8ba1e992ca5",
   "metadata": {},
   "source": [
    "# Rabbit reproduction problem"
   ]
  },
  {
   "cell_type": "markdown",
   "id": "654ceb20-77a8-438d-98aa-8e80e73db1d3",
   "metadata": {},
   "source": [
    "<strong>Matthieu Nogatchewsky</strong><br>\n",
    "Software & Machine Learning Engineer"
   ]
  },
  {
   "cell_type": "markdown",
   "id": "5ed90408-63b9-4a9f-8704-15cd04fc6d49",
   "metadata": {},
   "source": [
    "<em>I am interested in data science in order to gain a wide array of new skills that will allow me to leverage data to aid companies with their business strategies, and explore exciting new fields developing from within data science—fields like artificial intelligence, machine learning, big data, and more.</em>"
   ]
  },
  {
   "cell_type": "markdown",
   "id": "5fc7e662-9d92-4a14-8429-d8f6aa6bd63a",
   "metadata": {},
   "source": [
    "### The following code is supposed to calculate the number of pairs of rabbits in one year."
   ]
  },
  {
   "cell_type": "code",
   "execution_count": 10,
   "id": "18d68e79-66e6-4dc1-8cd6-7e64e1dda8fe",
   "metadata": {},
   "outputs": [
    {
     "name": "stdout",
     "output_type": "stream",
     "text": [
      "144\n"
     ]
    }
   ],
   "source": [
    "# Defining a function to compute the nth Fibonacci number.\n",
    "def fibonacci(n):\n",
    "    x_, x = 0, 1\n",
    "    for i in range(2,n+1):\n",
    "        x_, x = x, x_ + x\n",
    "    return x\n",
    "\n",
    "# Printing the number of pairs of rabbits at the 12th month given that in the first month there is only one pair of rabbits.\n",
    "print(fibonacci(12))"
   ]
  },
  {
   "cell_type": "markdown",
   "id": "2de21bbb-8f80-4946-9793-516f4c506420",
   "metadata": {},
   "source": [
    "This ~vital~ recreational problem was posed in the work [Liber abaci](https://en.wikipedia.org/wiki/Liber_Abaci).\n",
    "\n",
    "> Someone put a pair of rabbits in a certain place, closed on all sides, to find out how many pairs would be born from this pair in one year, because it is in their nature to generate another pair in one month, and that they give birth in the second month after their birth.\n",
    "\n",
    "Given the results printed in the above cell, the number of pairs of rabbits in one year is estimated at: <strong>144</strong>\n"
   ]
  }
 ],
 "metadata": {
  "kernelspec": {
   "display_name": "Python 3 (ipykernel)",
   "language": "python",
   "name": "python3"
  },
  "language_info": {
   "codemirror_mode": {
    "name": "ipython",
    "version": 3
   },
   "file_extension": ".py",
   "mimetype": "text/x-python",
   "name": "python",
   "nbconvert_exporter": "python",
   "pygments_lexer": "ipython3",
   "version": "3.10.6"
  }
 },
 "nbformat": 4,
 "nbformat_minor": 5
}
